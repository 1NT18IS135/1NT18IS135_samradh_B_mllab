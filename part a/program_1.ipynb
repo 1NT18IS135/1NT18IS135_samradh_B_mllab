{
 "cells": [
  {
   "cell_type": "code",
   "execution_count": 3,
   "metadata": {},
   "outputs": [],
   "source": [
    "l1=[1,2,2,2,2,3,3,3,4,5,7,9,10,24,56,67,89]\n",
    "sum=0\n",
    "for i in l1:\n",
    "    sum=sum+i\n",
    "    avg=sum/len(l1)"
   ]
  },
  {
   "cell_type": "code",
   "execution_count": 4,
   "metadata": {},
   "outputs": [
    {
     "data": {
      "text/plain": [
       "17.0"
      ]
     },
     "execution_count": 4,
     "metadata": {},
     "output_type": "execute_result"
    }
   ],
   "source": [
    "avg"
   ]
  },
  {
   "cell_type": "code",
   "execution_count": 5,
   "metadata": {},
   "outputs": [
    {
     "data": {
      "text/plain": [
       "4.5"
      ]
     },
     "execution_count": 5,
     "metadata": {},
     "output_type": "execute_result"
    }
   ],
   "source": [
    "i=int(len(l1)/2)\n",
    "if i%2==0:\n",
    "    res=(l1[i]+l1[i+1])/2\n",
    "else:\n",
    "    res=l1[i]\n",
    "res"
   ]
  },
  {
   "cell_type": "code",
   "execution_count": 6,
   "metadata": {},
   "outputs": [
    {
     "name": "stdout",
     "output_type": "stream",
     "text": [
      "2\n"
     ]
    }
   ],
   "source": [
    "d={}\n",
    "for it in l1:\n",
    "    if it in d:\n",
    "        d[it]=d[it]+1\n",
    "    else:\n",
    "        d[it]=1\n",
    "maxi=0\n",
    "for it in d:\n",
    "    if(d[it]>maxi):\n",
    "        maxi=d[it]\n",
    "        ans=it\n",
    "print (ans)"
   ]
  },
  {
   "cell_type": "code",
   "execution_count": 7,
   "metadata": {},
   "outputs": [],
   "source": [
    "temp=0\n",
    "for it in l1:\n",
    "    temp=temp+(it-avg)**2\n",
    "    \n",
    "varience = temp/len(l1)\n",
    "sd=(varience)**(1/2)"
   ]
  },
  {
   "cell_type": "code",
   "execution_count": 8,
   "metadata": {},
   "outputs": [
    {
     "name": "stdout",
     "output_type": "stream",
     "text": [
      "677.8823529411765\n",
      "26.03617393053704\n"
     ]
    }
   ],
   "source": [
    "print(varience)\n",
    "print(sd)"
   ]
  },
  {
   "cell_type": "code",
   "execution_count": 9,
   "metadata": {},
   "outputs": [
    {
     "name": "stdout",
     "output_type": "stream",
     "text": [
      "1\n",
      "89\n"
     ]
    }
   ],
   "source": [
    "maxi = 0\n",
    "mini = 1000\n",
    "for it in l1:\n",
    "    if it>maxi:\n",
    "        maxi=it\n",
    "    if it<mini:\n",
    "        mini=it\n",
    "print(mini)\n",
    "print(maxi)"
   ]
  },
  {
   "cell_type": "code",
   "execution_count": 10,
   "metadata": {},
   "outputs": [],
   "source": [
    "norm=[]\n",
    "for it in l1:\n",
    "    norm.append((it-mini)/(maxi-mini))\n"
   ]
  },
  {
   "cell_type": "code",
   "execution_count": 11,
   "metadata": {},
   "outputs": [
    {
     "name": "stdout",
     "output_type": "stream",
     "text": [
      "[0.0, 0.011363636363636364, 0.011363636363636364, 0.011363636363636364, 0.011363636363636364, 0.022727272727272728, 0.022727272727272728, 0.022727272727272728, 0.03409090909090909, 0.045454545454545456, 0.06818181818181818, 0.09090909090909091, 0.10227272727272728, 0.26136363636363635, 0.625, 0.75, 1.0]\n"
     ]
    }
   ],
   "source": [
    "print(norm)"
   ]
  },
  {
   "cell_type": "code",
   "execution_count": 12,
   "metadata": {},
   "outputs": [
    {
     "data": {
      "text/plain": [
       "[-0.6145296172428041,\n",
       " -0.5761215161651289,\n",
       " -0.5761215161651289,\n",
       " -0.5761215161651289,\n",
       " -0.5761215161651289,\n",
       " -0.5377134150874535,\n",
       " -0.5377134150874535,\n",
       " -0.5377134150874535,\n",
       " -0.4993053140097783,\n",
       " -0.46089721293210306,\n",
       " -0.38408101077675255,\n",
       " -0.30726480862140204,\n",
       " -0.26885670754372676,\n",
       " 0.26885670754372676,\n",
       " 1.4979159420293349,\n",
       " 1.9204050538837627,\n",
       " 2.765383277592618]"
      ]
     },
     "execution_count": 12,
     "metadata": {},
     "output_type": "execute_result"
    }
   ],
   "source": [
    "standard = []\n",
    "for it in l1:\n",
    "    standard.append((it - avg)/sd)\n",
    "standard    "
   ]
  },
  {
   "cell_type": "code",
   "execution_count": null,
   "metadata": {},
   "outputs": [],
   "source": []
  },
  {
   "cell_type": "code",
   "execution_count": null,
   "metadata": {},
   "outputs": [],
   "source": []
  }
 ],
 "metadata": {
  "kernelspec": {
   "display_name": "Python 3",
   "language": "python",
   "name": "python3"
  },
  "language_info": {
   "codemirror_mode": {
    "name": "ipython",
    "version": 3
   },
   "file_extension": ".py",
   "mimetype": "text/x-python",
   "name": "python",
   "nbconvert_exporter": "python",
   "pygments_lexer": "ipython3",
   "version": "3.8.10"
  }
 },
 "nbformat": 4,
 "nbformat_minor": 4
}
